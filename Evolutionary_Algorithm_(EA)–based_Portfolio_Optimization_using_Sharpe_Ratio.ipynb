{
  "nbformat": 4,
  "nbformat_minor": 0,
  "metadata": {
    "colab": {
      "provenance": []
    },
    "kernelspec": {
      "name": "python3",
      "display_name": "Python 3"
    },
    "language_info": {
      "name": "python"
    }
  },
  "cells": [
    {
      "cell_type": "code",
      "execution_count": null,
      "metadata": {
        "id": "D5qK-OQ3WWAd"
      },
      "outputs": [],
      "source": [
        "import pandas as pd\n",
        "import numpy as np\n",
        "import matplotlib.pyplot as plt"
      ]
    },
    {
      "cell_type": "code",
      "source": [
        "# 📥 Load your historical asset data (CSV file)\n",
        "file_path = '/content/Expanded_AssetData_Equity_Bonds_Currency.csv'  # <- Update this path\n",
        "df = pd.read_csv(file_path)\n",
        "df['Date'] = pd.to_datetime(df['Date'])"
      ],
      "metadata": {
        "id": "r4zHk0fmXts1"
      },
      "execution_count": null,
      "outputs": []
    },
    {
      "cell_type": "code",
      "source": [
        "# 🎯 Define target tickers and constraints\n",
        "target_tickers = ['AAPL', 'MSFT', 'JPM', 'GOOG', 'KO', 'GLD', 'TLT', 'BTCUSD', 'USDINR', 'SPY']\n",
        "max_allocs = {'BTCUSD': 0.10, 'USDINR': 0.05}\n",
        "n_assets = len(target_tickers)"
      ],
      "metadata": {
        "id": "KejEzIy6XyZJ"
      },
      "execution_count": null,
      "outputs": []
    },
    {
      "cell_type": "code",
      "source": [
        "# 🧼 Clean and prepare returns matrix\n",
        "df = df[df['Ticker'].isin(target_tickers)]\n",
        "pivot_df = df.pivot(index='Date', columns='Ticker', values='Close').sort_index().dropna()\n",
        "returns_df = pivot_df.pct_change().dropna()"
      ],
      "metadata": {
        "id": "Ri1Ds_XYX0ja"
      },
      "execution_count": null,
      "outputs": []
    },
    {
      "cell_type": "code",
      "source": [
        "# 📊 Mean and Covariance\n",
        "mean_returns = returns_df.mean()\n",
        "cov_matrix = returns_df.cov()\n",
        "risk_free_rate_daily = 0.005 / 252"
      ],
      "metadata": {
        "id": "29Ld2FM9X2ff"
      },
      "execution_count": null,
      "outputs": []
    },
    {
      "cell_type": "code",
      "source": [
        "# 🎯 Sharpe Ratio function\n",
        "def calculate_sharpe(weights, mean_returns, cov_matrix, rf=risk_free_rate_daily):\n",
        "    portfolio_return = np.dot(weights, mean_returns)\n",
        "    portfolio_std = np.sqrt(np.dot(weights.T, np.dot(cov_matrix, weights)))\n",
        "    return (portfolio_return - rf) / portfolio_std if portfolio_std != 0 else 0"
      ],
      "metadata": {
        "id": "CJiVGB8JX4u2"
      },
      "execution_count": null,
      "outputs": []
    },
    {
      "cell_type": "code",
      "source": [
        "# 🧬 Generate random population with constraints\n",
        "def generate_population(n_portfolios, n_assets, max_allocs):\n",
        "    population = []\n",
        "    for _ in range(n_portfolios):\n",
        "        weights = np.random.rand(n_assets)\n",
        "        weights /= weights.sum()\n",
        "\n",
        "        for asset, limit in max_allocs.items():\n",
        "            idx = target_tickers.index(asset)\n",
        "            if weights[idx] > limit:\n",
        "                excess = weights[idx] - limit\n",
        "                weights[idx] = limit\n",
        "                redistribute_idx = [i for i in range(len(weights)) if i != idx]\n",
        "                redistribute = weights[redistribute_idx]\n",
        "                redistribute += excess * (redistribute / redistribute.sum())\n",
        "                for i, j in enumerate(redistribute_idx):\n",
        "                    weights[j] = redistribute[i]\n",
        "        population.append(weights / np.sum(weights))\n",
        "    return np.array(population)"
      ],
      "metadata": {
        "id": "V0GIVtVTX7Dy"
      },
      "execution_count": null,
      "outputs": []
    },
    {
      "cell_type": "code",
      "source": [
        "# 🔧 EA Config\n",
        "n_generations = 50\n",
        "population_size = 100\n",
        "elite_size = 20\n",
        "mutation_rate = 0.1"
      ],
      "metadata": {
        "id": "NlOcq_3jX_lT"
      },
      "execution_count": null,
      "outputs": []
    },
    {
      "cell_type": "code",
      "source": [
        "# ⚙️ Normalize + enforce constraints\n",
        "def normalize_with_constraints(weights):\n",
        "    weights = np.maximum(weights, 0)\n",
        "    weights /= weights.sum()\n",
        "    for asset, max_val in max_allocs.items():\n",
        "        idx = target_tickers.index(asset)\n",
        "        if weights[idx] > max_val:\n",
        "            excess = weights[idx] - max_val\n",
        "            weights[idx] = max_val\n",
        "            redistribute_idx = [i for i in range(len(weights)) if i != idx]\n",
        "            redistribute = weights[redistribute_idx]\n",
        "            redistribute += excess * (redistribute / redistribute.sum())\n",
        "            for i, j in enumerate(redistribute_idx):\n",
        "                weights[j] = redistribute[i]\n",
        "    return weights / np.sum(weights)\n"
      ],
      "metadata": {
        "id": "7llVyF_3YC7_"
      },
      "execution_count": null,
      "outputs": []
    },
    {
      "cell_type": "code",
      "source": [
        "# 🔀 Crossover (uniform)\n",
        "def crossover(p1, p2):\n",
        "    mask = np.random.randint(0, 2, size=len(p1)).astype(bool)\n",
        "    return np.where(mask, p1, p2)\n"
      ],
      "metadata": {
        "id": "gigMaX6nYFzU"
      },
      "execution_count": null,
      "outputs": []
    },
    {
      "cell_type": "code",
      "source": [
        "# 🎲 Mutation\n",
        "def mutate(weights, rate=0.1):\n",
        "    for i in range(len(weights)):\n",
        "        if np.random.rand() < rate:\n",
        "            weights[i] += np.random.normal(0, 0.05)\n",
        "    return weights"
      ],
      "metadata": {
        "id": "lcPlPux8YH_M"
      },
      "execution_count": null,
      "outputs": []
    },
    {
      "cell_type": "code",
      "source": [
        "# 🧪 EA Loop\n",
        "initial_population = generate_population(population_size, n_assets, max_allocs)\n",
        "current_population = initial_population.copy()\n",
        "best_sharpes = []\n",
        "avg_sharpes = []\n",
        "\n",
        "for gen in range(n_generations):\n",
        "    sharpe_scores = [calculate_sharpe(w, mean_returns, cov_matrix) for w in current_population]\n",
        "    best_sharpes.append(np.max(sharpe_scores))\n",
        "    avg_sharpes.append(np.mean(sharpe_scores))\n",
        "\n",
        "    elite_indices = np.argsort(sharpe_scores)[-elite_size:]\n",
        "    elites = current_population[elite_indices]\n",
        "    new_population = elites.tolist()\n",
        "\n",
        "    while len(new_population) < population_size:\n",
        "        parent1, parent2 = elites[np.random.randint(0, elite_size)], elites[np.random.randint(0, elite_size)]\n",
        "        child = crossover(parent1, parent2)\n",
        "        child = mutate(child, mutation_rate)\n",
        "        child = normalize_with_constraints(child)\n",
        "        new_population.append(child)\n",
        "\n",
        "    current_population = np.array(new_population)\n",
        "\n",
        "\n",
        "\n",
        "\n",
        "\n",
        "\n",
        "\n",
        "\n"
      ],
      "metadata": {
        "id": "8LAHrE6kYJyh"
      },
      "execution_count": null,
      "outputs": []
    },
    {
      "cell_type": "code",
      "source": [
        "# 📈 Plot Evolution of Sharpe Ratio\n",
        "plt.figure(figsize=(10, 5))\n",
        "plt.plot(best_sharpes, label='Best Sharpe')\n",
        "plt.plot(avg_sharpes, label='Average Sharpe', linestyle='--')\n",
        "plt.title('Sharpe Ratio Evolution Over Generations')\n",
        "plt.xlabel('Generation')\n",
        "plt.ylabel('Sharpe Ratio')\n",
        "plt.legend()\n",
        "plt.grid(True)\n",
        "plt.tight_layout()\n",
        "plt.show()"
      ],
      "metadata": {
        "colab": {
          "base_uri": "https://localhost:8080/",
          "height": 329
        },
        "id": "gG68ezH0YTuO",
        "outputId": "c83818e2-d92d-4dd7-8d1f-ce73eb23493a"
      },
      "execution_count": null,
      "outputs": [
        {
          "output_type": "display_data",
          "data": {
            "text/plain": [
              "<Figure size 1000x500 with 1 Axes>"
            ],
            "image/png": "[encoded data removed]"
          },
          "metadata": {}
        }
      ]
    },
    {
      "cell_type": "code",
      "source": [
        "# 🏆 Best Portfolio Weights (Final Generation)\n",
        "final_scores = [calculate_sharpe(w, mean_returns, cov_matrix) for w in current_population]\n",
        "best_portfolio = current_population[np.argmax(final_scores)]\n"
      ],
      "metadata": {
        "id": "pRI0s--WYXeN"
      },
      "execution_count": null,
      "outputs": []
    },
    {
      "cell_type": "code",
      "source": [
        "# 🔍 View weights\n",
        "best_df = pd.DataFrame({\n",
        "    'Asset': target_tickers,\n",
        "    'Weight': best_portfolio\n",
        "})\n",
        "best_df['Weight'] = best_df['Weight'].round(4)\n",
        "print(\"🔝 Best Portfolio (Sharpe Ratio = {:.4f}):\".format(np.max(final_scores)))\n",
        "print(best_df)\n"
      ],
      "metadata": {
        "colab": {
          "base_uri": "https://localhost:8080/"
        },
        "id": "l1OE-TvFYXay",
        "outputId": "d6be5357-b6d4-4d7b-e358-e578e4c5f031"
      },
      "execution_count": null,
      "outputs": [
        {
          "output_type": "stream",
          "name": "stdout",
          "text": [
            "🔝 Best Portfolio (Sharpe Ratio = 0.3376):\n",
            "    Asset  Weight\n",
            "0    AAPL  0.1158\n",
            "1    MSFT  0.1302\n",
            "2     JPM  0.0146\n",
            "3    GOOG  0.1016\n",
            "4      KO  0.5377\n",
            "5     GLD  0.0000\n",
            "6     TLT  0.0000\n",
            "7  BTCUSD  0.1000\n",
            "8  USDINR  0.0000\n",
            "9     SPY  0.0000\n"
          ]
        }
      ]
    },
    {
      "cell_type": "code",
      "source": [],
      "metadata": {
        "id": "i4g3bqeOYjNk"
      },
      "execution_count": null,
      "outputs": []
    }
  ]
}