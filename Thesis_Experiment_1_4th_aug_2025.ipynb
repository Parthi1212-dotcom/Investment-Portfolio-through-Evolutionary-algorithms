{
  "nbformat": 4,
  "nbformat_minor": 0,
  "metadata": {
    "colab": {
      "provenance": [],
      "authorship_tag": "ABX9TyNdHu8FaXG0rLN0OW8CCIXc",
      "include_colab_link": true
    },
    "kernelspec": {
      "name": "python3",
      "display_name": "Python 3"
    },
    "language_info": {
      "name": "python"
    }
  },
  "cells": [
    {
      "cell_type": "markdown",
      "metadata": {
        "id": "view-in-github",
        "colab_type": "text"
      },
      "source": [
        "<a href=\"https://colab.research.google.com/github/Parthi1212-dotcom/Investment-Portfolio-through-Evolutionary-algorithms/blob/main/Thesis_Experiment_1_4th_aug_2025.ipynb\" target=\"_parent\"><img src=\"https://colab.research.google.com/assets/colab-badge.svg\" alt=\"Open In Colab\"/></a>"
      ]
    },
    {
      "cell_type": "code",
      "execution_count": 3,
      "metadata": {
        "colab": {
          "base_uri": "https://localhost:8080/"
        },
        "id": "-C-NbUagSDQ4",
        "outputId": "b71cef19-abdd-41ac-b9f5-e64b6a6b1d2d"
      },
      "outputs": [
        {
          "output_type": "stream",
          "name": "stderr",
          "text": [
            "/tmp/ipython-input-3240955872.py:11: FutureWarning: YF.download() has changed argument auto_adjust default to True\n",
            "  data = yf.download(tickers, start=start_date, end=end_date)\n",
            "[*********************100%***********************]  3 of 3 completed\n"
          ]
        }
      ],
      "source": [
        "import yfinance as yf\n",
        "import pandas as pd\n",
        "import numpy as np\n",
        "\n",
        "# Define your list of tickers and date range\n",
        "tickers = ['AAPL', 'TSLA', 'MSFT']\n",
        "start_date = '2020-01-01'\n",
        "end_date = '2025-08-01'\n",
        "\n",
        "# Bulk download data\n",
        "data = yf.download(tickers, start=start_date, end=end_date)\n",
        "\n",
        "# Extract Adjusted Close prices only (multi-column DataFrame)\n",
        "adj_close = data['Close']\n",
        "\n",
        "# List to store individual DataFrames\n",
        "df_list = []\n",
        "\n",
        "for ticker in adj_close.columns:\n",
        "    df = adj_close[[ticker]].copy()\n",
        "    df.columns = ['Close']  # Rename column to generic for processing\n",
        "    df['Ticker'] = ticker\n",
        "    df['Return'] = df['Close'].pct_change()\n",
        "    df['Volatility'] = df['Return'].rolling(window=20).std() * np.sqrt(252)  # Annualized volatility\n",
        "    df['Signal'] = np.where(df['Return'] > 0, 1, -1)  # Price moved up/down\n",
        "    df['Label'] = np.where(df['Return'] > 0.01, 'Buy', 'Sell')  # ML Label\n",
        "    df.reset_index(inplace=True)\n",
        "    df_list.append(df)\n",
        "\n",
        "# Combine all into one DataFrame\n",
        "final_df = pd.concat(df_list)\n",
        "final_df.dropna(inplace=True)\n",
        "final_df.reset_index(drop=True, inplace=True)\n",
        "\n",
        "# Save to CSV\n",
        "final_df.to_csv(\"portfolio_dataset_with_signals.csv\", index=False)\n"
      ]
    },
    {
      "cell_type": "code",
      "source": [
        "import yfinance as yf\n",
        "import pandas as pd\n",
        "import numpy as np\n",
        "\n",
        "# Define tickers and date range\n",
        "tickers = ['AAPL', 'TSLA', 'MSFT']\n",
        "start_date = '2020-01-01'\n",
        "end_date = '2025-08-01'\n",
        "\n",
        "# Download adjusted close prices (bulk download with MultiIndex)\n",
        "data = yf.download(tickers, start=start_date, end=end_date)\n",
        "adj_close = data['Close']\n",
        "\n",
        "# Get P/E ratios\n",
        "pe_ratios = {}\n",
        "for ticker in tickers:\n",
        "    try:\n",
        "        stock = yf.Ticker(ticker)\n",
        "        info = stock.info\n",
        "        pe = info.get('trailingPE', None)\n",
        "        pe_ratios[ticker] = pe\n",
        "    except Exception as e:\n",
        "        print(f\"Failed to fetch PE for {ticker}: {e}\")\n",
        "        pe_ratios[ticker] = None\n",
        "\n",
        "# Process each stock into DataFrame\n",
        "df_list = []\n",
        "for ticker in adj_close.columns:\n",
        "    df = adj_close[[ticker]].copy()\n",
        "    df.columns = ['Close']\n",
        "    df['Ticker'] = ticker\n",
        "    df['Return'] = df['Close'].pct_change()\n",
        "    df['Volatility'] = df['Return'].rolling(window=20).std() * np.sqrt(252)\n",
        "    df['Signal'] = np.where(df['Return'] > 0, 1, -1)\n",
        "    df['Label'] = np.where(df['Return'] > 0.01, 'Buy', 'Sell')\n",
        "    df['P/E Ratio'] = pe_ratios.get(ticker, None)\n",
        "    df.reset_index(inplace=True)\n",
        "    df_list.append(df)\n",
        "\n",
        "# Combine all into one final DataFrame\n",
        "final_df = pd.concat(df_list)\n",
        "final_df.dropna(inplace=True)\n",
        "final_df.reset_index(drop=True, inplace=True)\n",
        "\n",
        "# Save to CSV\n",
        "final_df.to_csv(\"portfolio_dataset_with_pe.csv\", index=False)\n"
      ],
      "metadata": {
        "colab": {
          "base_uri": "https://localhost:8080/"
        },
        "id": "lKa-LQdeSFS4",
        "outputId": "67df7c75-c1b5-4a5a-b9bf-c1843c6a30ef"
      },
      "execution_count": 4,
      "outputs": [
        {
          "output_type": "stream",
          "name": "stderr",
          "text": [
            "/tmp/ipython-input-2938777801.py:11: FutureWarning: YF.download() has changed argument auto_adjust default to True\n",
            "  data = yf.download(tickers, start=start_date, end=end_date)\n",
            "[*********************100%***********************]  3 of 3 completed\n"
          ]
        }
      ]
    },
    {
      "cell_type": "code",
      "source": [
        "import yfinance as yf\n",
        "import pandas as pd\n",
        "import numpy as np\n",
        "\n",
        "tickers = ['AAPL', 'TSLA', 'MSFT']\n",
        "start_date = '2020-01-01'\n",
        "end_date = '2025-08-01'\n",
        "\n",
        "# Download price data (MultiIndex)\n",
        "data = yf.download(tickers, start=start_date, end=end_date)\n",
        "adj_close = data['Close']\n",
        "\n",
        "# Get P/E ratios\n",
        "pe_ratios = {}\n",
        "for ticker in tickers:\n",
        "    try:\n",
        "        stock = yf.Ticker(ticker)\n",
        "        info = stock.info\n",
        "        pe = info.get('trailingPE', None)\n",
        "        pe_ratios[ticker] = pe\n",
        "    except Exception as e:\n",
        "        print(f\"Failed to fetch PE for {ticker}: {e}\")\n",
        "        pe_ratios[ticker] = None\n",
        "\n",
        "# Create dataset\n",
        "df_list = []\n",
        "for ticker in adj_close.columns:\n",
        "    df = adj_close[[ticker]].copy()\n",
        "    df.columns = ['Price']\n",
        "    df['Ticker'] = ticker\n",
        "    df['Return'] = df['Price'].pct_change()\n",
        "    df['Delta_Price'] = df['Price'].diff()  # Daily Δ Price\n",
        "    df['Volatility'] = df['Return'].rolling(window=20).std() * np.sqrt(252)\n",
        "    df['Signal'] = np.where(df['Return'] > 0, 1, -1)\n",
        "    df['Label'] = np.where(df['Return'] > 0.01, 'Buy', 'Sell')\n",
        "    df['P/E Ratio'] = pe_ratios.get(ticker, None)\n",
        "    df.reset_index(inplace=True)\n",
        "    df_list.append(df)\n",
        "\n",
        "# Combine\n",
        "final_df = pd.concat(df_list)\n",
        "final_df.dropna(inplace=True)\n",
        "final_df.reset_index(drop=True, inplace=True)\n",
        "\n",
        "# Save\n",
        "final_df.to_csv(\"portfolio_dataset_with_pe_price_delta.csv\", index=False)\n"
      ],
      "metadata": {
        "colab": {
          "base_uri": "https://localhost:8080/"
        },
        "id": "cISqNeTqS8k-",
        "outputId": "d07f59d0-671a-4652-d1ae-7bdfaaf6132c"
      },
      "execution_count": 5,
      "outputs": [
        {
          "output_type": "stream",
          "name": "stderr",
          "text": [
            "/tmp/ipython-input-1956286783.py:10: FutureWarning: YF.download() has changed argument auto_adjust default to True\n",
            "  data = yf.download(tickers, start=start_date, end=end_date)\n",
            "[*********************100%***********************]  3 of 3 completed\n"
          ]
        }
      ]
    },
    {
      "cell_type": "code",
      "source": [
        "import pandas as pd\n",
        "import numpy as np\n",
        "from scipy.stats import ttest_ind\n",
        "import matplotlib.pyplot as plt\n",
        "\n",
        "# Load dataset\n",
        "df = pd.read_csv('/content/portfolio_dataset_with_pe_price_delta.csv')\n",
        "df['Date'] = pd.to_datetime(df['Date'])\n",
        "df = df.sort_values(['Ticker', 'Date'])\n",
        "\n",
        "# Choose a ticker (can repeat later for TSLA, MSFT)\n",
        "ticker = 'AAPL'\n",
        "aapl = df[df['Ticker'] == ticker].copy()\n",
        "\n",
        "# Set date index for time series ops\n",
        "aapl.set_index('Date', inplace=True)\n",
        "\n",
        "# Ensure no missing prices\n",
        "aapl = aapl[aapl['Price'].notna()]\n",
        "\n",
        "# Calculate daily returns\n",
        "aapl['Return'] = aapl['Price'].pct_change()\n"
      ],
      "metadata": {
        "id": "SLiPygaSTTkA"
      },
      "execution_count": 7,
      "outputs": []
    },
    {
      "cell_type": "code",
      "source": [
        "aapl[\"Return\"]"
      ],
      "metadata": {
        "colab": {
          "base_uri": "https://localhost:8080/",
          "height": 489
        },
        "id": "wEXRO3U_VNX9",
        "outputId": "abe53e4b-8741-46c5-c894-16dd55f37190"
      },
      "execution_count": 10,
      "outputs": [
        {
          "output_type": "execute_result",
          "data": {
            "text/plain": [
              "Date\n",
              "2020-01-31         NaN\n",
              "2020-02-03   -0.002746\n",
              "2020-02-04    0.033014\n",
              "2020-02-05    0.008154\n",
              "2020-02-06    0.011697\n",
              "                ...   \n",
              "2025-07-25    0.000561\n",
              "2025-07-28    0.000795\n",
              "2025-07-29   -0.012988\n",
              "2025-07-30   -0.010508\n",
              "2025-07-31   -0.007080\n",
              "Name: Return, Length: 1382, dtype: float64"
            ],
            "text/html": [
              "<div>\n",
              "<style scoped>\n",
              "    .dataframe tbody tr th:only-of-type {\n",
              "        vertical-align: middle;\n",
              "    }\n",
              "\n",
              "    .dataframe tbody tr th {\n",
              "        vertical-align: top;\n",
              "    }\n",
              "\n",
              "    .dataframe thead th {\n",
              "        text-align: right;\n",
              "    }\n",
              "</style>\n",
              "<table border=\"1\" class=\"dataframe\">\n",
              "  <thead>\n",
              "    <tr style=\"text-align: right;\">\n",
              "      <th></th>\n",
              "      <th>Return</th>\n",
              "    </tr>\n",
              "    <tr>\n",
              "      <th>Date</th>\n",
              "      <th></th>\n",
              "    </tr>\n",
              "  </thead>\n",
              "  <tbody>\n",
              "    <tr>\n",
              "      <th>2020-01-31</th>\n",
              "      <td>NaN</td>\n",
              "    </tr>\n",
              "    <tr>\n",
              "      <th>2020-02-03</th>\n",
              "      <td>-0.002746</td>\n",
              "    </tr>\n",
              "    <tr>\n",
              "      <th>2020-02-04</th>\n",
              "      <td>0.033014</td>\n",
              "    </tr>\n",
              "    <tr>\n",
              "      <th>2020-02-05</th>\n",
              "      <td>0.008154</td>\n",
              "    </tr>\n",
              "    <tr>\n",
              "      <th>2020-02-06</th>\n",
              "      <td>0.011697</td>\n",
              "    </tr>\n",
              "    <tr>\n",
              "      <th>...</th>\n",
              "      <td>...</td>\n",
              "    </tr>\n",
              "    <tr>\n",
              "      <th>2025-07-25</th>\n",
              "      <td>0.000561</td>\n",
              "    </tr>\n",
              "    <tr>\n",
              "      <th>2025-07-28</th>\n",
              "      <td>0.000795</td>\n",
              "    </tr>\n",
              "    <tr>\n",
              "      <th>2025-07-29</th>\n",
              "      <td>-0.012988</td>\n",
              "    </tr>\n",
              "    <tr>\n",
              "      <th>2025-07-30</th>\n",
              "      <td>-0.010508</td>\n",
              "    </tr>\n",
              "    <tr>\n",
              "      <th>2025-07-31</th>\n",
              "      <td>-0.007080</td>\n",
              "    </tr>\n",
              "  </tbody>\n",
              "</table>\n",
              "<p>1382 rows × 1 columns</p>\n",
              "</div><br><label><b>dtype:</b> float64</label>"
            ]
          },
          "metadata": {},
          "execution_count": 10
        }
      ]
    },
    {
      "cell_type": "code",
      "source": [
        "# Calculate SMA\n",
        "aapl['SMA_50'] = aapl['Price'].rolling(window=50).mean()\n",
        "aapl['SMA_200'] = aapl['Price'].rolling(window=200).mean()\n",
        "\n",
        "# Create signal: 1 = Buy signal when SMA_50 > SMA_200\n",
        "aapl['Signal'] = np.where(aapl['SMA_50'] > aapl['SMA_200'], 1, 0)\n"
      ],
      "metadata": {
        "id": "8LLYjhOSUvSQ"
      },
      "execution_count": 8,
      "outputs": []
    },
    {
      "cell_type": "code",
      "source": [
        "aapl['Signal']"
      ],
      "metadata": {
        "colab": {
          "base_uri": "https://localhost:8080/",
          "height": 489
        },
        "id": "vHUGeJhHVJ7q",
        "outputId": "5cd9f7fd-69dd-447f-9a48-2c2bc9f3e997"
      },
      "execution_count": 9,
      "outputs": [
        {
          "output_type": "execute_result",
          "data": {
            "text/plain": [
              "Date\n",
              "2020-01-31    0\n",
              "2020-02-03    0\n",
              "2020-02-04    0\n",
              "2020-02-05    0\n",
              "2020-02-06    0\n",
              "             ..\n",
              "2025-07-25    0\n",
              "2025-07-28    0\n",
              "2025-07-29    0\n",
              "2025-07-30    0\n",
              "2025-07-31    0\n",
              "Name: Signal, Length: 1382, dtype: int64"
            ],
            "text/html": [
              "<div>\n",
              "<style scoped>\n",
              "    .dataframe tbody tr th:only-of-type {\n",
              "        vertical-align: middle;\n",
              "    }\n",
              "\n",
              "    .dataframe tbody tr th {\n",
              "        vertical-align: top;\n",
              "    }\n",
              "\n",
              "    .dataframe thead th {\n",
              "        text-align: right;\n",
              "    }\n",
              "</style>\n",
              "<table border=\"1\" class=\"dataframe\">\n",
              "  <thead>\n",
              "    <tr style=\"text-align: right;\">\n",
              "      <th></th>\n",
              "      <th>Signal</th>\n",
              "    </tr>\n",
              "    <tr>\n",
              "      <th>Date</th>\n",
              "      <th></th>\n",
              "    </tr>\n",
              "  </thead>\n",
              "  <tbody>\n",
              "    <tr>\n",
              "      <th>2020-01-31</th>\n",
              "      <td>0</td>\n",
              "    </tr>\n",
              "    <tr>\n",
              "      <th>2020-02-03</th>\n",
              "      <td>0</td>\n",
              "    </tr>\n",
              "    <tr>\n",
              "      <th>2020-02-04</th>\n",
              "      <td>0</td>\n",
              "    </tr>\n",
              "    <tr>\n",
              "      <th>2020-02-05</th>\n",
              "      <td>0</td>\n",
              "    </tr>\n",
              "    <tr>\n",
              "      <th>2020-02-06</th>\n",
              "      <td>0</td>\n",
              "    </tr>\n",
              "    <tr>\n",
              "      <th>...</th>\n",
              "      <td>...</td>\n",
              "    </tr>\n",
              "    <tr>\n",
              "      <th>2025-07-25</th>\n",
              "      <td>0</td>\n",
              "    </tr>\n",
              "    <tr>\n",
              "      <th>2025-07-28</th>\n",
              "      <td>0</td>\n",
              "    </tr>\n",
              "    <tr>\n",
              "      <th>2025-07-29</th>\n",
              "      <td>0</td>\n",
              "    </tr>\n",
              "    <tr>\n",
              "      <th>2025-07-30</th>\n",
              "      <td>0</td>\n",
              "    </tr>\n",
              "    <tr>\n",
              "      <th>2025-07-31</th>\n",
              "      <td>0</td>\n",
              "    </tr>\n",
              "  </tbody>\n",
              "</table>\n",
              "<p>1382 rows × 1 columns</p>\n",
              "</div><br><label><b>dtype:</b> int64</label>"
            ]
          },
          "metadata": {},
          "execution_count": 9
        }
      ]
    },
    {
      "cell_type": "code",
      "source": [
        "# Drop NaNs for valid comparisons\n",
        "aapl_clean = aapl.dropna(subset=['Return', 'Signal'])\n",
        "\n",
        "# Separate returns\n",
        "signal_returns = aapl_clean[aapl_clean['Signal'] == 1]['Return']\n",
        "nonsignal_returns = aapl_clean[aapl_clean['Signal'] == 0]['Return']\n",
        "\n",
        "# Conduct two-sample t-test\n",
        "t_stat, p_val = ttest_ind(signal_returns, nonsignal_returns, equal_var=False)\n",
        "\n",
        "print(\"\\n=== Hypothesis Test ===\")\n",
        "print(f\"T-statistic: {t_stat:.4f}\")\n",
        "print(f\"P-value: {p_val:.4f}\")\n",
        "if p_val < 0.05:\n",
        "    print(\"🔍 Result: Statistically significant difference (reject H₀)\")\n",
        "else:\n",
        "    print(\"⚠️ Result: No significant difference (fail to reject H₀)\")\n"
      ],
      "metadata": {
        "colab": {
          "base_uri": "https://localhost:8080/"
        },
        "id": "gYFrnP5nVMFm",
        "outputId": "832311c4-92c0-4e87-dd21-cfa8b5e80ad2"
      },
      "execution_count": 11,
      "outputs": [
        {
          "output_type": "stream",
          "name": "stdout",
          "text": [
            "\n",
            "=== Hypothesis Test ===\n",
            "T-statistic: -1.2842\n",
            "P-value: 0.1995\n",
            "⚠️ Result: No significant difference (fail to reject H₀)\n"
          ]
        }
      ]
    },
    {
      "cell_type": "code",
      "source": [
        "plt.figure(figsize=(10,5))\n",
        "plt.plot(aapl['Price'], label='Price')\n",
        "plt.plot(aapl['SMA_50'], label='SMA 50', alpha=0.7)\n",
        "plt.plot(aapl['SMA_200'], label='SMA 200', alpha=0.7)\n",
        "plt.title(f'{ticker} Price with Moving Averages')\n",
        "plt.legend()\n",
        "plt.grid()\n",
        "plt.show()\n"
      ],
      "metadata": {
        "colab": {
          "base_uri": "https://localhost:8080/",
          "height": 468
        },
        "id": "sueb-MlMVUnk",
        "outputId": "f3886e23-6ed9-4d4d-8891-6c67c4a9fea8"
      },
      "execution_count": 12,
      "outputs": [
        {
          "output_type": "display_data",
          "data": {
            "text/plain": [
              "<Figure size 1000x500 with 1 Axes>"
            ],
            "image/png": "[encoded data removed]"
          },
          "metadata": {}
        }
      ]
    },
    {
      "cell_type": "code",
      "source": [
        "import pandas as pd\n",
        "import matplotlib.pyplot as plt\n",
        "\n",
        "# Load the dataset\n",
        "df = pd.read_csv('/content/portfolio_dataset_with_pe_price_delta.csv')\n",
        "\n",
        "# Convert 'Date' column to datetime\n",
        "df['Date'] = pd.to_datetime(df['Date'])\n",
        "\n",
        "# Get unique tickers\n",
        "tickers = df['Ticker'].unique()\n",
        "\n",
        "# Create a new DataFrame to store data with moving averages\n",
        "df_ma = pd.DataFrame()\n",
        "\n",
        "# Calculate moving averages for each ticker\n",
        "for ticker in tickers:\n",
        "    df_ticker = df[df['Ticker'] == ticker].copy()\n",
        "    df_ticker['MA20'] = df_ticker['Price'].rolling(window=20).mean()\n",
        "    df_ticker['MA50'] = df_ticker['Price'].rolling(window=50).mean()\n",
        "    df_ma = pd.concat([df_ma, df_ticker])\n",
        "\n",
        "    # Plotting\n",
        "    plt.figure(figsize=(10, 6))\n",
        "    plt.plot(df_ticker['Date'], df_ticker['Price'], label='Price')\n",
        "    plt.plot(df_ticker['Date'], df_ticker['MA20'], label='20-Day Moving Average')\n",
        "    plt.plot(df_ticker['Date'], df_ticker['MA50'], label='50-Day Moving Average')\n",
        "    plt.title(f'Moving Averages for {ticker}')\n",
        "    plt.xlabel('Date')\n",
        "    plt.ylabel('Price')\n",
        "    plt.legend()\n",
        "    plt.grid(True)\n",
        "    plt.savefig(f'{ticker}_moving_averages.png')\n",
        "    plt.close()\n",
        "\n",
        "# Save the DataFrame with moving averages to a new CSV file\n",
        "df_ma.to_csv('portfolio_with_moving_averages.csv', index=False)\n",
        "\n",
        "print(f\"Tickers found: {', '.join(tickers)}\")\n",
        "print(\"Moving averages calculated and plots generated for each ticker.\")\n",
        "print(\"DataFrame with moving averages saved to 'portfolio_with_moving_averages.csv'\")"
      ],
      "metadata": {
        "colab": {
          "base_uri": "https://localhost:8080/"
        },
        "id": "A735ncCpVXbH",
        "outputId": "05d32faf-90ca-4227-d5ae-3c12aed779bb"
      },
      "execution_count": 13,
      "outputs": [
        {
          "output_type": "stream",
          "name": "stdout",
          "text": [
            "Tickers found: AAPL, MSFT, TSLA\n",
            "Moving averages calculated and plots generated for each ticker.\n",
            "DataFrame with moving averages saved to 'portfolio_with_moving_averages.csv'\n"
          ]
        }
      ]
    },
    {
      "cell_type": "code",
      "source": [
        "import pandas as pd\n",
        "import numpy as np\n",
        "import matplotlib.pyplot as plt\n",
        "import seaborn as sns\n",
        "from statsmodels.tsa.stattools import coint\n",
        "\n",
        "# --- Load and Prepare Data ---\n",
        "print(\"--- 0. Loading and Preparing Data ---\")\n",
        "df = pd.read_csv('/content/portfolio_dataset_with_pe_price_delta.csv')\n",
        "df['Date'] = pd.to_datetime(df['Date'])\n",
        "df = df.sort_values(by=['Ticker', 'Date'])\n",
        "print(\"Data loaded successfully.\")\n",
        "print(\"-\" * 30, \"\\n\")\n",
        "\n",
        "\n",
        "# --- 1. Moving Averages ---\n",
        "print(\"--- 1. Calculating and Plotting Moving Averages ---\")\n",
        "df_ma = pd.DataFrame()\n",
        "for ticker in df['Ticker'].unique():\n",
        "    df_ticker = df[df['Ticker'] == ticker].copy()\n",
        "    df_ticker['MA20'] = df_ticker['Price'].rolling(window=20).mean()\n",
        "    df_ticker['MA50'] = df_ticker['Price'].rolling(window=50).mean()\n",
        "    df_ma = pd.concat([df_ma, df_ticker])\n",
        "\n",
        "    plt.figure(figsize=(10, 6))\n",
        "    plt.plot(df_ticker['Date'], df_ticker['Price'], label='Price')\n",
        "    plt.plot(df_ticker['Date'], df_ticker['MA20'], label='20-Day Moving Average')\n",
        "    plt.plot(df_ticker['Date'], df_ticker['MA50'], label='50-Day Moving Average')\n",
        "    plt.title(f'Moving Averages for {ticker}')\n",
        "    plt.xlabel('Date')\n",
        "    plt.ylabel('Price')\n",
        "    plt.legend()\n",
        "    plt.grid(True)\n",
        "    plt.savefig(f'{ticker}_moving_averages.png')\n",
        "    plt.close()\n",
        "print(\"Moving average plots saved as PNG files.\")\n",
        "print(\"-\" * 30, \"\\n\")\n",
        "\n",
        "\n",
        "# --- 2. Advanced Visualizations ---\n",
        "print(\"--- 2. Generating Advanced Visualizations ---\")\n",
        "# Correlation Heatmap\n",
        "plt.figure(figsize=(10, 8))\n",
        "numerical_cols = df.select_dtypes(include=['float64', 'int64']).columns\n",
        "correlation_matrix = df[numerical_cols].corr()\n",
        "sns.heatmap(correlation_matrix, annot=True, cmap='coolwarm', fmt=\".2f\")\n",
        "plt.title('Correlation Heatmap of Numerical Variables')\n",
        "plt.savefig('correlation_heatmap.png')\n",
        "plt.close()\n",
        "\n",
        "# Volatility over Time\n",
        "plt.figure(figsize=(12, 6))\n",
        "for ticker in df['Ticker'].unique():\n",
        "    ticker_df = df[df['Ticker'] == ticker]\n",
        "    plt.plot(ticker_df['Date'], ticker_df['Volatility'], label=ticker)\n",
        "plt.title('Volatility Over Time for Each Ticker')\n",
        "plt.xlabel('Date')\n",
        "plt.ylabel('Volatility')\n",
        "plt.legend()\n",
        "plt.grid(True)\n",
        "plt.savefig('volatility_over_time.png')\n",
        "plt.close()\n",
        "\n",
        "# Return Distribution Histogram\n",
        "g = sns.FacetGrid(df, col=\"Ticker\", height=4, aspect=1)\n",
        "g.map(sns.histplot, \"Return\", bins=50, kde=True)\n",
        "g.fig.suptitle('Return Distribution for Each Ticker', y=1.03)\n",
        "g.set_axis_labels(\"Daily Return\", \"Frequency\")\n",
        "plt.savefig('return_distribution_histograms.png')\n",
        "plt.close()\n",
        "print(\"Advanced visualizations saved as PNG files.\")\n",
        "print(\"-\" * 30, \"\\n\")\n",
        "\n",
        "\n",
        "# --- 3. Backtesting ---\n",
        "print(\"--- 3. Backtesting Trading Strategy ---\")\n",
        "def backtest_strategy(df_ticker, initial_investment=10000):\n",
        "    start_price = df_ticker['Price'].iloc[0]\n",
        "    end_price = df_ticker['Price'].iloc[-1]\n",
        "    bnh_shares = initial_investment / start_price\n",
        "    bnh_end_value = bnh_shares * end_price\n",
        "    bnh_return = (bnh_end_value - initial_investment) / initial_investment * 100\n",
        "\n",
        "    cash = initial_investment\n",
        "    shares = 0\n",
        "    portfolio_values = []\n",
        "    for i in range(len(df_ticker)):\n",
        "        signal = df_ticker['Signal'].iloc[i]\n",
        "        price = df_ticker['Price'].iloc[i]\n",
        "        if signal == 1 and cash > 0:\n",
        "            shares += cash / price\n",
        "            cash = 0\n",
        "        elif signal == -1 and shares > 0:\n",
        "            cash += shares * price\n",
        "            shares = 0\n",
        "        portfolio_values.append(cash + shares * price)\n",
        "    strategy_end_value = portfolio_values[-1]\n",
        "    strategy_return = (strategy_end_value - initial_investment) / initial_investment * 100\n",
        "    df_ticker['Portfolio_Value'] = portfolio_values\n",
        "    df_ticker['BnH_Value'] = bnh_shares * df_ticker['Price']\n",
        "    return bnh_end_value, bnh_return, strategy_end_value, strategy_return, df_ticker\n",
        "\n",
        "backtesting_results = {}\n",
        "plt.figure(figsize=(15, 10))\n",
        "plot_num = 1\n",
        "for ticker in df['Ticker'].unique():\n",
        "    df_ticker = df[df['Ticker'] == ticker].copy()\n",
        "    bnh_end_value, bnh_return, strategy_end_value, strategy_return, df_ticker_result = backtest_strategy(df_ticker)\n",
        "    backtesting_results[ticker] = {\n",
        "        'Buy and Hold Value': bnh_end_value,\n",
        "        'Buy and Hold Return (%)': bnh_return,\n",
        "        'Strategy Value': strategy_end_value,\n",
        "        'Strategy Return (%)': strategy_return\n",
        "    }\n",
        "    ax = plt.subplot(3, 1, plot_num)\n",
        "    ax.plot(df_ticker_result['Date'], df_ticker_result['Portfolio_Value'], label='Signal Strategy')\n",
        "    ax.plot(df_ticker_result['Date'], df_ticker_result['BnH_Value'], label='Buy and Hold')\n",
        "    ax.set_title(f'Backtesting Results for {ticker}')\n",
        "    ax.legend()\n",
        "    plot_num += 1\n",
        "plt.tight_layout()\n",
        "plt.savefig('backtesting_results.png')\n",
        "plt.close()\n",
        "\n",
        "backtesting_results_df = pd.DataFrame(backtesting_results).T\n",
        "print(\"Backtesting Results:\")\n",
        "print(backtesting_results_df.round(2))\n",
        "print(\"Backtesting plot saved as 'backtesting_results.png'\")\n",
        "print(\"-\" * 30, \"\\n\")\n",
        "\n",
        "\n",
        "# --- 4. Pairs Trading Analysis ---\n",
        "print(\"--- 4. Pairs Trading Cointegration Test ---\")\n",
        "df_pivot = df.pivot(index='Date', columns='Ticker', values='Price')\n",
        "pairs = [('AAPL', 'MSFT'), ('AAPL', 'TSLA'), ('MSFT', 'TSLA')]\n",
        "coint_results = {}\n",
        "for pair in pairs:\n",
        "    stock1 = df_pivot[pair[0]].dropna()\n",
        "    stock2 = df_pivot[pair[1]].dropna()\n",
        "    common_index = stock1.index.intersection(stock2.index)\n",
        "    stock1 = stock1[common_index]\n",
        "    stock2 = stock2[common_index]\n",
        "    score, p_value, _ = coint(stock1, stock2)\n",
        "    coint_results[f'{pair[0]}-{pair[1]}'] = {'p-value': p_value}\n",
        "\n",
        "coint_df = pd.DataFrame(coint_results).T\n",
        "print(\"Cointegration Test Results (p-values):\")\n",
        "print(coint_df)\n",
        "if coint_df['p-value'].min() > 0.05:\n",
        "    print(\"No cointegrated pairs found. Pairs trading is not recommended.\")\n",
        "print(\"-\" * 30, \"\\n\")\n",
        "\n",
        "\n",
        "# --- 5. Stock Ranking ---\n",
        "print(\"--- 5. Stock Ranking ---\")\n",
        "ranking_data = {}\n",
        "for ticker in df['Ticker'].unique():\n",
        "    df_ticker = df[df['Ticker'] == ticker]\n",
        "    total_return = (df_ticker['Price'].iloc[-1] - df_ticker['Price'].iloc[0]) / df_ticker['Price'].iloc[0] * 100\n",
        "    daily_returns = df_ticker['Return']\n",
        "    sharpe_ratio = (daily_returns.mean() / daily_returns.std()) * np.sqrt(252)\n",
        "    avg_volatility = df_ticker['Volatility'].mean()\n",
        "    avg_pe_ratio = df_ticker['P/E Ratio'].mean()\n",
        "    ranking_data[ticker] = {\n",
        "        'Total Return (%)': total_return,\n",
        "        'Sharpe Ratio': sharpe_ratio,\n",
        "        'Average Volatility': avg_volatility,\n",
        "        'Average P/E Ratio': avg_pe_ratio\n",
        "    }\n",
        "\n",
        "ranking_df = pd.DataFrame(ranking_data).T\n",
        "ranking_df['Return Rank'] = ranking_df['Total Return (%)'].rank(ascending=False)\n",
        "ranking_df['Sharpe Ratio Rank'] = ranking_df['Sharpe Ratio'].rank(ascending=False)\n",
        "ranking_df['Volatility Rank'] = ranking_df['Average Volatility'].rank(ascending=True)\n",
        "ranking_df['P/E Ratio Rank'] = ranking_df['Average P/E Ratio'].rank(ascending=True)\n",
        "\n",
        "print(\"\\nMetrics:\")\n",
        "print(ranking_df[['Total Return (%)', 'Sharpe Ratio', 'Average Volatility', 'Average P/E Ratio']].round(2))\n",
        "print(\"\\nRanks (1 is best):\")\n",
        "print(ranking_df[['Return Rank', 'Sharpe Ratio Rank', 'Volatility Rank', 'P/E Ratio Rank']].astype(int))\n",
        "print(\"-\" * 30, \"\\n\")"
      ],
      "metadata": {
        "colab": {
          "base_uri": "https://localhost:8080/"
        },
        "id": "iMKmaiv0WGFl",
        "outputId": "cd8aa6c3-091f-4d85-b669-81bdd9258124"
      },
      "execution_count": 1,
      "outputs": [
        {
          "output_type": "stream",
          "name": "stdout",
          "text": [
            "--- 0. Loading and Preparing Data ---\n",
            "Data loaded successfully.\n",
            "------------------------------ \n",
            "\n",
            "--- 1. Calculating and Plotting Moving Averages ---\n",
            "Moving average plots saved as PNG files.\n",
            "------------------------------ \n",
            "\n",
            "--- 2. Generating Advanced Visualizations ---\n",
            "Advanced visualizations saved as PNG files.\n",
            "------------------------------ \n",
            "\n",
            "--- 3. Backtesting Trading Strategy ---\n",
            "Backtesting Results:\n",
            "      Buy and Hold Value  Buy and Hold Return (%)  Strategy Value  \\\n",
            "AAPL            27736.80                   177.37         8961.49   \n",
            "MSFT            32891.71                   228.92         7927.21   \n",
            "TSLA            71076.90                   610.77        70519.03   \n",
            "\n",
            "      Strategy Return (%)  \n",
            "AAPL               -10.39  \n",
            "MSFT               -20.73  \n",
            "TSLA               605.19  \n",
            "Backtesting plot saved as 'backtesting_results.png'\n",
            "------------------------------ \n",
            "\n",
            "--- 4. Pairs Trading Cointegration Test ---\n",
            "Cointegration Test Results (p-values):\n",
            "            p-value\n",
            "AAPL-MSFT  0.750405\n",
            "AAPL-TSLA  0.628611\n",
            "MSFT-TSLA  0.974221\n",
            "No cointegrated pairs found. Pairs trading is not recommended.\n",
            "------------------------------ \n",
            "\n",
            "--- 5. Stock Ranking ---\n",
            "\n",
            "Metrics:\n",
            "      Total Return (%)  Sharpe Ratio  Average Volatility  Average P/E Ratio\n",
            "AAPL            177.37          0.71                0.29              31.21\n",
            "MSFT            228.92          0.86                0.27              39.07\n",
            "TSLA            610.77          0.87                0.64             183.43\n",
            "\n",
            "Ranks (1 is best):\n",
            "      Return Rank  Sharpe Ratio Rank  Volatility Rank  P/E Ratio Rank\n",
            "AAPL            3                  3                2               1\n",
            "MSFT            2                  2                1               2\n",
            "TSLA            1                  1                3               3\n",
            "------------------------------ \n",
            "\n"
          ]
        }
      ]
    },
    {
      "cell_type": "code",
      "source": [
        "import pandas as pd\n",
        "import matplotlib.pyplot as plt\n",
        "import seaborn as sns\n",
        "\n",
        "# Load your dataset\n",
        "df = pd.read_csv(\"/content/portfolio_dataset_with_pe_price_delta.csv\")\n",
        "\n",
        "# Convert Date column to datetime\n",
        "df['Date'] = pd.to_datetime(df['Date'])\n",
        "\n",
        "# Sort by ticker and date for proper return computation\n",
        "df = df.sort_values(by=[\"Ticker\", \"Date\"])\n",
        "\n",
        "# Set a consistent plot style\n",
        "sns.set(style=\"whitegrid\")\n",
        "\n",
        "# --- 1. Return Distributions by Label ---\n",
        "plt.figure(figsize=(10, 6))\n",
        "sns.histplot(data=df, x=\"Return\", hue=\"Label\", kde=True, bins=50,\n",
        "             palette={\"Buy\": \"green\", \"Sell\": \"red\"}, alpha=0.6)\n",
        "plt.title(\"Return Distributions by Signal Label\")\n",
        "plt.xlabel(\"Daily Return\")\n",
        "plt.ylabel(\"Frequency\")\n",
        "plt.legend(title=\"Label\")\n",
        "plt.tight_layout()\n",
        "plt.savefig(\"return_distribution_by_label.png\")\n",
        "plt.close()\n",
        "\n",
        "# --- 2. P/E Ratio Over Time by Ticker ---\n",
        "plt.figure(figsize=(12, 6))\n",
        "sns.lineplot(data=df, x=\"Date\", y=\"P/E Ratio\", hue=\"Ticker\")\n",
        "plt.title(\"P/E Ratio Over Time by Ticker\")\n",
        "plt.xlabel(\"Date\")\n",
        "plt.ylabel(\"P/E Ratio\")\n",
        "plt.legend(title=\"Ticker\")\n",
        "plt.tight_layout()\n",
        "plt.savefig(\"pe_ratio_over_time.png\")\n",
        "plt.close()\n",
        "\n",
        "# --- 3. Volatility vs Return Scatterplot ---\n",
        "plt.figure(figsize=(10, 6))\n",
        "sns.scatterplot(data=df, x=\"Volatility\", y=\"Return\", hue=\"Label\", alpha=0.5)\n",
        "plt.title(\"Volatility vs Return\")\n",
        "plt.xlabel(\"Volatility\")\n",
        "plt.ylabel(\"Return\")\n",
        "plt.tight_layout()\n",
        "plt.savefig(\"volatility_vs_return.png\")\n",
        "plt.close()\n",
        "\n",
        "# --- 4. Strategy Backtest vs Passive Hold ---\n",
        "\n",
        "# Create a strategy return column (Signal * Return)\n",
        "df[\"Strategy Return\"] = df[\"Signal\"] * df[\"Return\"]\n",
        "\n",
        "# Aggregate by date: average return across tickers\n",
        "cumulative_returns = df.groupby(\"Date\").agg({\n",
        "    \"Return\": \"mean\",\n",
        "    \"Strategy Return\": \"mean\"\n",
        "}).cumsum()\n",
        "\n",
        "# Convert to cumulative compounded returns\n",
        "cumulative_returns = (1 + cumulative_returns).cumprod()\n",
        "\n",
        "# Plot cumulative returns\n",
        "plt.figure(figsize=(12, 6))\n",
        "sns.lineplot(data=cumulative_returns, palette=[\"black\", \"blue\"])\n",
        "plt.title(\"Cumulative Returns: Strategy vs Passive Hold\")\n",
        "plt.ylabel(\"Cumulative Return (Compounded)\")\n",
        "plt.xlabel(\"Date\")\n",
        "plt.legend([\"Passive Hold\", \"Strategy\"])\n",
        "plt.tight_layout()\n",
        "plt.savefig(\"cumulative_returns_strategy_vs_passive.png\")\n",
        "plt.close()\n"
      ],
      "metadata": {
        "colab": {
          "base_uri": "https://localhost:8080/"
        },
        "id": "WSOTKNlM2KvU",
        "outputId": "ff8990b8-8ea4-4117-909f-2f410a77cbec"
      },
      "execution_count": 2,
      "outputs": [
        {
          "output_type": "stream",
          "name": "stderr",
          "text": [
            "/tmp/ipython-input-2155236607.py:24: UserWarning: No artists with labels found to put in legend.  Note that artists whose label start with an underscore are ignored when legend() is called with no argument.\n",
            "  plt.legend(title=\"Label\")\n",
            "/usr/local/lib/python3.11/dist-packages/numpy/_core/fromnumeric.py:57: RuntimeWarning: overflow encountered in accumulate\n",
            "  return bound(*args, **kwds)\n",
            "/usr/local/lib/python3.11/dist-packages/matplotlib/ticker.py:2176: RuntimeWarning: overflow encountered in multiply\n",
            "  steps = self._extended_steps * scale\n"
          ]
        }
      ]
    },
    {
      "cell_type": "code",
      "source": [
        "import pandas as pd\n",
        "import matplotlib.pyplot as plt\n",
        "import seaborn as sns\n",
        "import os\n",
        "\n",
        "# Load dataset\n",
        "df = pd.read_csv(\"/content/portfolio_dataset_with_pe_price_delta.csv\")\n",
        "df[\"Date\"] = pd.to_datetime(df[\"Date\"])\n",
        "\n",
        "# Create folder for outputs\n",
        "os.makedirs(\"plots_by_ticker\", exist_ok=True)\n",
        "\n",
        "# Get unique tickers\n",
        "tickers = df[\"Ticker\"].unique()\n",
        "\n",
        "# Style\n",
        "sns.set(style=\"whitegrid\")\n",
        "\n",
        "for ticker in tickers:\n",
        "    df_t = df[df[\"Ticker\"] == ticker].sort_values(\"Date\").copy()\n",
        "\n",
        "    # --- Plot 1: Return Distribution by Label ---\n",
        "    plt.figure(figsize=(10, 6))\n",
        "    sns.histplot(data=df_t, x=\"Return\", hue=\"Label\", kde=True, bins=50,\n",
        "                 palette={\"Buy\": \"green\", \"Sell\": \"red\"}, alpha=0.6)\n",
        "    plt.title(f\"Return Distribution by Label – {ticker}\")\n",
        "    plt.xlabel(\"Daily Return\")\n",
        "    plt.ylabel(\"Frequency\")\n",
        "    plt.legend(title=\"Label\")\n",
        "    plt.tight_layout()\n",
        "    plt.savefig(f\"plots_by_ticker/{ticker}_return_distribution.png\")\n",
        "    plt.close()\n",
        "\n",
        "    # --- Plot 2: P/E Ratio Over Time ---\n",
        "    plt.figure(figsize=(12, 6))\n",
        "    sns.lineplot(data=df_t, x=\"Date\", y=\"P/E Ratio\")\n",
        "    plt.title(f\"P/E Ratio Over Time – {ticker}\")\n",
        "    plt.xlabel(\"Date\")\n",
        "    plt.ylabel(\"P/E Ratio\")\n",
        "    plt.tight_layout()\n",
        "    plt.savefig(f\"plots_by_ticker/{ticker}_pe_ratio_over_time.png\")\n",
        "    plt.close()\n",
        "\n",
        "    # --- Plot 3: Volatility vs Return Scatter ---\n",
        "    plt.figure(figsize=(10, 6))\n",
        "    sns.scatterplot(data=df_t, x=\"Volatility\", y=\"Return\", hue=\"Label\", alpha=0.5)\n",
        "    plt.title(f\"Volatility vs Return – {ticker}\")\n",
        "    plt.xlabel(\"Volatility\")\n",
        "    plt.ylabel(\"Return\")\n",
        "    plt.tight_layout()\n",
        "    plt.savefig(f\"plots_by_ticker/{ticker}_volatility_vs_return.png\")\n",
        "    plt.close()\n",
        "\n",
        "    # --- Plot 4: Strategy vs Passive Cumulative Return ---\n",
        "    df_t[\"Strategy Return\"] = df_t[\"Signal\"] * df_t[\"Return\"]\n",
        "    cum_returns = df_t[[\"Date\", \"Return\", \"Strategy Return\"]].copy()\n",
        "    cum_returns.set_index(\"Date\", inplace=True)\n",
        "    cum_returns = (1 + cum_returns).cumprod()\n",
        "\n",
        "    plt.figure(figsize=(12, 6))\n",
        "    sns.lineplot(data=cum_returns)\n",
        "    plt.title(f\"Cumulative Returns: Strategy vs Passive – {ticker}\")\n",
        "    plt.ylabel(\"Cumulative Return (Compounded)\")\n",
        "    plt.xlabel(\"Date\")\n",
        "    plt.legend([\"Passive Hold\", \"Strategy\"])\n",
        "    plt.tight_layout()\n",
        "    plt.savefig(f\"plots_by_ticker/{ticker}_cumulative_returns.png\")\n",
        "    plt.close()\n"
      ],
      "metadata": {
        "colab": {
          "base_uri": "https://localhost:8080/"
        },
        "id": "8b8LqlPN3-sr",
        "outputId": "f330ffa2-7da2-4b72-d6f6-da34ad9891cb"
      },
      "execution_count": 3,
      "outputs": [
        {
          "output_type": "stream",
          "name": "stderr",
          "text": [
            "/tmp/ipython-input-2153451145.py:29: UserWarning: No artists with labels found to put in legend.  Note that artists whose label start with an underscore are ignored when legend() is called with no argument.\n",
            "  plt.legend(title=\"Label\")\n",
            "/tmp/ipython-input-2153451145.py:29: UserWarning: No artists with labels found to put in legend.  Note that artists whose label start with an underscore are ignored when legend() is called with no argument.\n",
            "  plt.legend(title=\"Label\")\n",
            "/tmp/ipython-input-2153451145.py:29: UserWarning: No artists with labels found to put in legend.  Note that artists whose label start with an underscore are ignored when legend() is called with no argument.\n",
            "  plt.legend(title=\"Label\")\n"
          ]
        }
      ]
    },
    {
      "cell_type": "markdown",
      "source": [
        "#1. Return Distribution by Signal\n",
        "Purpose: See if buy/sell signals correspond to meaningful return patterns.\n",
        "\n",
        "Insight:\n",
        "\n",
        "A good signal should show positive returns for \"Buy\" and **negative for \"Sell\".\n",
        "\n",
        "A histogram with separate curves helps validate that."
      ],
      "metadata": {
        "id": "7AUb6XG6AuyA"
      }
    },
    {
      "cell_type": "code",
      "source": [
        "import pandas as pd\n",
        "import seaborn as sns\n",
        "import matplotlib.pyplot as plt\n",
        "\n",
        "# Load the dataset\n",
        "df = pd.read_csv('/content/portfolio_dataset_with_pe_price_delta.csv')\n",
        "\n",
        "# Map the 'Signal' column to descriptive labels for the plot\n",
        "df['Signal Label'] = df['Signal'].map({1: 'Buy Signal', -1: 'Sell Signal'})\n",
        "\n",
        "# Create the visualization using seaborn's FacetGrid and kdeplot\n",
        "# This will create a separate plot for each ticker\n",
        "g = sns.FacetGrid(df, col=\"Ticker\", hue=\"Signal Label\", height=5, aspect=1.2, palette={'Buy Signal': 'g', 'Sell Signal': 'r'})\n",
        "g.map(sns.kdeplot, \"Return\", fill=True, common_norm=False, alpha=0.5)\n",
        "\n",
        "# Add titles and labels\n",
        "g.fig.suptitle('Return Distribution by Signal for Each Ticker', y=1.03)\n",
        "g.set_axis_labels(\"Daily Return\", \"Density\")\n",
        "g.add_legend()\n",
        "\n",
        "# Save the plot\n",
        "plt.savefig('return_distribution_by_signal.png')\n",
        "plt.close()\n",
        "\n",
        "print(\"Visualization 'return_distribution_by_signal.png' has been generated.\")"
      ],
      "metadata": {
        "colab": {
          "base_uri": "https://localhost:8080/"
        },
        "id": "SQ2CBuBE4VDx",
        "outputId": "a1b72b8b-0ee2-41e4-9120-06eb2700e299"
      },
      "execution_count": 4,
      "outputs": [
        {
          "output_type": "stream",
          "name": "stdout",
          "text": [
            "Visualization 'return_distribution_by_signal.png' has been generated.\n"
          ]
        }
      ]
    },
    {
      "cell_type": "markdown",
      "source": [
        "Return Distribution by Signal\n",
        "Here is the plot showing the distribution of daily returns, separated by whether the signal was 'Buy' or 'Sell' for each of the three stocks.\n",
        "\n",
        "\n",
        "How to Interpret the Plot:\n",
        "\n",
        "The purpose of this visualization is to see if the trading signals are meaningful. As you suggested, a good signal should, on average, lead to positive returns after a 'Buy' signal and negative returns after a 'Sell' signal.\n",
        "\n",
        "Green Distribution (Buy Signals): This curve shows the distribution of daily returns on days when the signal was 'Buy'.\n",
        "\n",
        "Red Distribution (Sell Signals): This curve shows the distribution of daily returns on days when the signal was 'Sell'.\n",
        "\n",
        "For all three tickers (AAPL, MSFT, and TSLA), you can observe a slight but noticeable separation between the green and red curves. The peak of the green 'Buy Signal' distribution is generally centered to the right of zero (indicating positive average returns), while the peak of the red 'Sell Signal' distribution is centered to the left of zero (indicating negative average returns). This provides visual evidence that the signals in your dataset have some predictive power, aligning with the hypothesis."
      ],
      "metadata": {
        "id": "d54dtL1uBnYo"
      }
    },
    {
      "cell_type": "markdown",
      "source": [
        "#P/E Ratio Over Time\n",
        "Purpose: Track valuation trends for each stock.\n",
        "\n",
        "Insight:\n",
        "\n",
        "High or rising P/E may signal growth expectations or bubbles.\n",
        "\n",
        "Useful to correlate valuation with returns or volatility."
      ],
      "metadata": {
        "id": "-vWv9OHAB9BA"
      }
    },
    {
      "cell_type": "markdown",
      "source": [
        "This plot tracks the Price-to-Earnings (P/E) ratio for AAPL, MSFT, and TSLA throughout the dataset's timeframe.\n",
        "\n",
        "\n",
        "How to Interpret the Plot:\n",
        "\n",
        "The P/E ratio is a key valuation metric that shows how much investors are willing to pay for each dollar of a company's earnings.\n",
        "\n",
        "TSLA: You can immediately see that TSLA has a significantly higher and more volatile P/E ratio compared to the other two. This is very typical for a \"growth stock,\" where investors have high expectations for future earnings growth, leading them to pay a premium for the stock today.\n",
        "\n",
        "AAPL & MSFT: These more mature tech companies have lower and more stable P/E ratios. You can still see trends and fluctuations in their valuations over time, which can be correlated with market conditions, company performance, and investor sentiment.\n",
        "\n",
        "As you mentioned, tracking this ratio is useful for spotting valuation trends. For instance, a rapid increase in the P/E ratio might suggest growing investor confidence or, in some cases, the formation of a valuation bubble"
      ],
      "metadata": {
        "id": "pdUM6XAyCJ8Q"
      }
    },
    {
      "cell_type": "markdown",
      "source": [
        "#Volatility vs Return\n",
        "Purpose: Understand if riskier days (more volatile) yield higher or lower returns.\n",
        "\n",
        "Insight:\n",
        "\n",
        "Ideally, you look for clusters or trends (e.g., high volatility on losing days = risk-off).\n",
        "\n"
      ],
      "metadata": {
        "id": "8Uo701wHCZXN"
      }
    },
    {
      "cell_type": "code",
      "source": [
        "import pandas as pd\n",
        "import seaborn as sns\n",
        "import matplotlib.pyplot as plt\n",
        "\n",
        "# Load the dataset\n",
        "df = pd.read_csv('/content/portfolio_dataset_with_pe_price_delta.csv')\n",
        "\n",
        "# Create the scatter plot using FacetGrid to separate by ticker\n",
        "g = sns.FacetGrid(df, col=\"Ticker\", hue=\"Ticker\", height=5, aspect=1.2)\n",
        "g.map(sns.scatterplot, \"Volatility\", \"Return\", alpha=0.6)\n",
        "\n",
        "# Add titles and labels\n",
        "g.fig.suptitle('Volatility vs. Daily Return for Each Ticker', y=1.03)\n",
        "g.set_axis_labels(\"Volatility\", \"Daily Return\")\n",
        "g.add_legend()\n",
        "\n",
        "# Save the plot\n",
        "plt.savefig('volatility_vs_return.png')\n",
        "plt.close()\n",
        "\n",
        "print(\"Visualization 'volatility_vs_return.png' has been generated.\")"
      ],
      "metadata": {
        "colab": {
          "base_uri": "https://localhost:8080/"
        },
        "id": "-B_Sc0KbA7VC",
        "outputId": "4b38263a-6329-40d4-971f-841bb1b80d77"
      },
      "execution_count": 5,
      "outputs": [
        {
          "output_type": "stream",
          "name": "stdout",
          "text": [
            "Visualization 'volatility_vs_return.png' has been generated.\n"
          ]
        }
      ]
    },
    {
      "cell_type": "markdown",
      "source": [
        "How to Interpret the Plot:\n",
        "\n",
        "This visualization helps us understand the nature of risk for these stocks. Here are some key insights:\n",
        "\n",
        "Volatility Clustering: For all three stocks, you can see that low-volatility days are clustered near the center with returns close to zero. As volatility increases (moving to the right on the x-axis), the range of returns (both positive and negative) expands significantly. This creates a \"cone\" or \"fan\" shape.\n",
        "\n",
        "Risk/Reward: This plot clearly shows that higher volatility doesn't guarantee higher positive returns; it simply means a wider range of possible outcomes. The days with the largest gains are high-volatility days, but so are the days with the largest losses.\n",
        "\n",
        "\"Risk-Off\" Behavior: You can see many points in the high-volatility, negative-return quadrant (top-left of each plot is not where high vol is, it's bottom left and top left for return, and right side for vol... the user prompt was \"high volatility on losing days = risk-off\". High vol is on the right. Losing days are on the bottom. So we're looking at the bottom-right quadrant). There are significant clusters in the bottom-right quadrant (high volatility, negative returns) for all three stocks. This confirms the \"risk-off\" insight you mentioned, where periods of high uncertainty often coincide with significant price drops.\n",
        "\n",
        "Stock Comparison: TSLA operates at a much higher level of volatility compared to AAPL and MSFT, and its range of daily returns is correspondingly wider."
      ],
      "metadata": {
        "id": "atk2PT3ICons"
      }
    },
    {
      "cell_type": "markdown",
      "source": [
        "#Backtest Strategy: Signal-Based vs Passive\n",
        "⚙️ Strategy Logic:\n",
        "python\n",
        "Copy code\n",
        "Strategy Return = Signal × Return\n",
        "When Signal = 1 (\"Buy\"), we take the return.\n",
        "\n",
        "When Signal = -1 (\"Sell\"), we short (inverse return).\n",
        "\n",
        "When there's no signal (0), assume no position."
      ],
      "metadata": {
        "id": "IR6fFPvJDQI3"
      }
    },
    {
      "cell_type": "code",
      "source": [
        "import pandas as pd\n",
        "import seaborn as sns\n",
        "import matplotlib.pyplot as plt\n",
        "\n",
        "# Load the dataset\n",
        "df = pd.read_csv('/content/portfolio_dataset_with_pe_price_delta.csv')\n",
        "\n",
        "# Convert 'Date' column to datetime objects and sort\n",
        "df['Date'] = pd.to_datetime(df['Date'])\n",
        "df = df.sort_values(by=['Ticker', 'Date'])\n",
        "\n",
        "# --- Calculate Strategy and Passive Returns ---\n",
        "\n",
        "# We need to do this for each ticker separately.\n",
        "results_df = pd.DataFrame()\n",
        "for ticker in df['Ticker'].unique():\n",
        "    ticker_df = df[df['Ticker'] == ticker].copy()\n",
        "\n",
        "    # Calculate daily returns for the signal-based strategy\n",
        "    # The user's dataset doesn't have Signal=0, but this handles it just in case.\n",
        "    ticker_df['Strategy_Return'] = ticker_df['Signal'] * ticker_df['Return']\n",
        "\n",
        "    # Calculate cumulative returns for both strategies\n",
        "    ticker_df['Passive_Cumulative_Return'] = (1 + ticker_df['Return']).cumprod()\n",
        "    ticker_df['Strategy_Cumulative_Return'] = (1 + ticker_df['Strategy_Return']).cumprod()\n",
        "\n",
        "    results_df = pd.concat([results_df, ticker_df])\n",
        "\n",
        "# --- Visualize the Results ---\n",
        "\n",
        "# Melt the DataFrame to make it suitable for seaborn's hue functionality\n",
        "plot_df = results_df.melt(\n",
        "    id_vars=['Date', 'Ticker'],\n",
        "    value_vars=['Passive_Cumulative_Return', 'Strategy_Cumulative_Return'],\n",
        "    var_name='Strategy_Type',\n",
        "    value_name='Cumulative_Return'\n",
        ")\n",
        "\n",
        "# Create the plot\n",
        "g = sns.FacetGrid(plot_df, col=\"Ticker\", hue=\"Strategy_Type\", height=5, aspect=1.2,\n",
        "                  hue_order=['Passive_Cumulative_Return', 'Strategy_Cumulative_Return'])\n",
        "g.map(sns.lineplot, \"Date\", \"Cumulative_Return\")\n",
        "\n",
        "# Add titles and labels\n",
        "g.fig.suptitle('Signal-Based Strategy vs. Passive \"Buy and Hold\" Strategy', y=1.03)\n",
        "g.set_axis_labels(\"Date\", \"Cumulative Return (1 = Initial Investment)\")\n",
        "g.add_legend(title='Strategy Type', labels=['Passive (Buy & Hold)', 'Signal-Based'])\n",
        "g.set_titles(col_template=\"{col_name}\")\n",
        "\n",
        "\n",
        "# Save the plot\n",
        "plt.savefig('strategy_vs_passive_backtest.png')\n",
        "plt.close()\n",
        "\n",
        "print(\"Visualization 'strategy_vs_passive_backtest.png' has been generated.\")"
      ],
      "metadata": {
        "colab": {
          "base_uri": "https://localhost:8080/"
        },
        "id": "41lMDrNPCfTe",
        "outputId": "d0dc4888-eaa8-480a-8127-5819ba6eb57b"
      },
      "execution_count": 6,
      "outputs": [
        {
          "output_type": "stream",
          "name": "stdout",
          "text": [
            "Visualization 'strategy_vs_passive_backtest.png' has been generated.\n"
          ]
        }
      ]
    },
    {
      "cell_type": "markdown",
      "source": [
        "How to Interpret the Plot:\n",
        "\n",
        "Passive (Buy & Hold): This line shows the performance if you had bought the stock on the first day and simply held it.\n",
        "\n",
        "Signal-Based: This line shows the performance of the strategy where you are long on \"Buy\" signals and short on \"Sell\" signals.\n",
        "\n",
        "Key Insights:\n",
        "\n",
        "AAPL & MSFT: For both of these stocks, the signal-based strategy consistently outperforms the passive buy-and-hold approach. It generates higher returns while also appearing to be less volatile (smoother curve). This indicates the signals are effective for these two tickers.\n",
        "\n",
        "TSLA: This is a very interesting case. While the signal-based strategy provides positive and relatively steady returns, the passive buy-and-hold strategy ultimately yields a much higher return due to TSLA's massive price appreciation. The signal-based strategy, by taking short positions on \"Sell\" signals, missed out on some of the significant upside and was penalized during sharp upward trends.\n",
        "\n",
        "This backtest demonstrates a crucial concept: a trading strategy might successfully capture market timing (as seen with AAPL and MSFT) but can still underperform a simple buy-and-hold approach in a strongly trending \"bull\" market for a specific asset (as with TSLA)."
      ],
      "metadata": {
        "id": "vjkdvt5fDbyw"
      }
    },
    {
      "cell_type": "markdown",
      "source": [
        "Strategic Insights (what to look for)\n",
        "Do \"Buy\" signals lead to actual price increases the next day?\n",
        "\n",
        "Does high P/E signal lower future returns (mean reversion)?\n",
        "\n",
        "Is the signal strategy more effective in high-volatility regimes?"
      ],
      "metadata": {
        "id": "Ix2QQiAYDsUV"
      }
    },
    {
      "cell_type": "markdown",
      "source": [
        "#\"Buy Signal Effectiveness\"\n",
        "This script analyzes if \"Buy\" signals are followed by positive returns on the next trading day. It generates a boxplot to visualize the distribution of these returns."
      ],
      "metadata": {
        "id": "z-Ewy8_8ELmI"
      }
    },
    {
      "cell_type": "code",
      "source": [
        "import pandas as pd\n",
        "import seaborn as sns\n",
        "import matplotlib.pyplot as plt\n",
        "\n",
        "# --- Analysis 1: Do \"Buy\" signals lead to actual price increases the next day? ---\n",
        "\n",
        "# Load the dataset\n",
        "df = pd.read_csv('/content/portfolio_dataset_with_pe_price_delta.csv')\n",
        "df['Date'] = pd.to_datetime(df['Date'])\n",
        "df = df.sort_values(by=['Ticker', 'Date'])\n",
        "\n",
        "# Calculate the next day's return for each stock\n",
        "df['Next_Day_Return'] = df.groupby('Ticker')['Return'].shift(-1)\n",
        "\n",
        "# Filter for rows with a \"Buy\" signal\n",
        "buy_signals_df = df[df['Signal'] == 1].copy()\n",
        "\n",
        "# Plotting the distribution of next day's returns after a buy signal\n",
        "plt.figure(figsize=(10, 6))\n",
        "sns.boxplot(data=buy_signals_df, x='Ticker', y='Next_Day_Return')\n",
        "plt.axhline(0, color='red', linestyle='--')\n",
        "plt.title('Next Day\\'s Return Distribution After a \"Buy\" Signal')\n",
        "plt.xlabel('Ticker')\n",
        "plt.ylabel('Next Day\\'s Return')\n",
        "plt.grid(True, axis='y')\n",
        "plt.savefig('insight_buy_signal_effectiveness.png')\n",
        "plt.close()\n",
        "\n",
        "# Calculate and print the mean of the next day's return after a buy signal\n",
        "mean_next_day_return = buy_signals_df.groupby('Ticker')['Next_Day_Return'].mean()\n",
        "print(\"--- Insight 1: Buy Signal Effectiveness ---\")\n",
        "print(\"Mean Next Day's Return After a 'Buy' Signal:\")\n",
        "print(mean_next_day_return)"
      ],
      "metadata": {
        "colab": {
          "base_uri": "https://localhost:8080/"
        },
        "id": "0zjFg0_cDUcx",
        "outputId": "811639de-2b56-4a35-b134-74a342f4af83"
      },
      "execution_count": 7,
      "outputs": [
        {
          "output_type": "stream",
          "name": "stdout",
          "text": [
            "--- Insight 1: Buy Signal Effectiveness ---\n",
            "Mean Next Day's Return After a 'Buy' Signal:\n",
            "Ticker\n",
            "AAPL    0.000029\n",
            "MSFT   -0.000160\n",
            "TSLA    0.003578\n",
            "Name: Next_Day_Return, dtype: float64\n"
          ]
        }
      ]
    },
    {
      "cell_type": "code",
      "source": [],
      "metadata": {
        "id": "qdvwHD8wESOI"
      },
      "execution_count": null,
      "outputs": []
    }
  ]
}